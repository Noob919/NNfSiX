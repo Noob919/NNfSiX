{
  "nbformat": 4,
  "nbformat_minor": 0,
  "metadata": {
    "colab": {
      "name": "mat_Neural_net_parkinson",
      "provenance": [],
      "authorship_tag": "ABX9TyO5A7zzwEVp7+AZ80ZAd2KJ",
      "include_colab_link": true
    },
    "kernelspec": {
      "display_name": "Python 3",
      "name": "python3"
    }
  },
  "cells": [
    {
      "cell_type": "markdown",
      "metadata": {
        "id": "view-in-github",
        "colab_type": "text"
      },
      "source": [
        "<a href=\"https://colab.research.google.com/github/Noob919/NNfSiX/blob/master/mat_Neural_net_parkinson.ipynb\" target=\"_parent\"><img src=\"https://colab.research.google.com/assets/colab-badge.svg\" alt=\"Open In Colab\"/></a>"
      ]
    },
    {
      "cell_type": "markdown",
      "metadata": {
        "id": "S6TBGJU364Qk"
      },
      "source": [
        "Install all the essential libraries"
      ]
    },
    {
      "cell_type": "code",
      "metadata": {
        "id": "gX39tnB_wLJ5"
      },
      "source": [
        "import numpy as np \n",
        "import pandas as pd\n",
        "import matplotlib.pyplot as plt\n",
        "import seaborn as sns\n",
        "from sklearn import preprocessing\n",
        "from sklearn.model_selection import train_test_split\n",
        "from keras.utils import np_utils\n",
        "import tensorflow as tf\n",
        "from sklearn.metrics import mean_squared_error\n",
        "from sklearn.metrics import confusion_matrix\n",
        "from sklearn.metrics import accuracy_score\n",
        "from sklearn.metrics import f1_score,precision_score,recall_score"
      ],
      "execution_count": 2,
      "outputs": []
    },
    {
      "cell_type": "code",
      "metadata": {
        "id": "8E3OEQeC7HTJ"
      },
      "source": [
        ""
      ],
      "execution_count": null,
      "outputs": []
    },
    {
      "cell_type": "markdown",
      "metadata": {
        "id": "dhYblTPc7GjY"
      },
      "source": [
        "Read the data in DataFrame using Pandas"
      ]
    },
    {
      "cell_type": "code",
      "metadata": {
        "id": "PqO3N4DGwi7N"
      },
      "source": [
        "df =  pd.read_csv(\"/content/parkinsons.data\")"
      ],
      "execution_count": null,
      "outputs": []
    },
    {
      "cell_type": "markdown",
      "metadata": {
        "id": "Fq3ZduMX7O9l"
      },
      "source": [
        "Drop the colum \"NAMES\" from the dataframe "
      ]
    },
    {
      "cell_type": "code",
      "metadata": {
        "id": "MHAmJNZwxjPP"
      },
      "source": [
        "df_final = df.drop(columns= \"name\", axis= 1)"
      ],
      "execution_count": null,
      "outputs": []
    },
    {
      "cell_type": "markdown",
      "metadata": {
        "id": "VUZ4wgkh7XcT"
      },
      "source": [
        "Now seprate the labels from rest of the dataframe"
      ]
    },
    {
      "cell_type": "code",
      "metadata": {
        "id": "D7RN68MjmxA0"
      },
      "source": [
        "X = df_final[['MDVP:Fo(Hz)', 'MDVP:Fhi(Hz)', 'MDVP:Flo(Hz)', 'MDVP:Jitter(%)',\n",
        "       'MDVP:Jitter(Abs)', 'MDVP:RAP', 'MDVP:PPQ', 'Jitter:DDP',\n",
        "       'MDVP:Shimmer', 'MDVP:Shimmer(dB)', 'Shimmer:APQ3', 'Shimmer:APQ5',\n",
        "       'MDVP:APQ', 'Shimmer:DDA', 'NHR', 'HNR','RPDE', 'DFA',\n",
        "       'spread1', 'spread2', 'D2', 'PPE']]\n",
        "y = df_final['status']"
      ],
      "execution_count": null,
      "outputs": []
    },
    {
      "cell_type": "code",
      "metadata": {
        "id": "JvmzzZ-vm7yZ"
      },
      "source": [
        "X = np.asarray(X)\n",
        "y = np.asarray(y)"
      ],
      "execution_count": null,
      "outputs": []
    },
    {
      "cell_type": "markdown",
      "metadata": {
        "id": "xCmhg70m7hFW"
      },
      "source": [
        "Transform the Data using z-normalisation"
      ]
    },
    {
      "cell_type": "code",
      "metadata": {
        "id": "eWJE-R_hnckH"
      },
      "source": [
        "X = preprocessing.StandardScaler().fit(X).transform(X)"
      ],
      "execution_count": null,
      "outputs": []
    },
    {
      "cell_type": "markdown",
      "metadata": {
        "id": "gAcONbO67s_C"
      },
      "source": [
        "Now, split the data for the training and testing purpose"
      ]
    },
    {
      "cell_type": "code",
      "metadata": {
        "colab": {
          "base_uri": "https://localhost:8080/"
        },
        "id": "4hReQgPmnwsY",
        "outputId": "2ae4c07d-5397-45c4-dbca-223850f119b8"
      },
      "source": [
        "X_train, X_test, y_train, y_test = train_test_split( X, y, test_size=0.2, random_state=4)\n",
        "print ('Train set:', X_train.shape,  y_train.shape)\n",
        "print ('Test set:', X_test.shape,  y_test.shape)"
      ],
      "execution_count": null,
      "outputs": [
        {
          "output_type": "stream",
          "text": [
            "Train set: (156, 22) (156,)\n",
            "Test set: (39, 22) (39,)\n"
          ],
          "name": "stdout"
        }
      ]
    },
    {
      "cell_type": "code",
      "metadata": {
        "id": "rGTUcCiVxiHR"
      },
      "source": [
        "from tensorflow.keras import datasets, layers, models"
      ],
      "execution_count": null,
      "outputs": []
    },
    {
      "cell_type": "markdown",
      "metadata": {
        "id": "j3d6OWRm8G8H"
      },
      "source": [
        "MAIN MODEL"
      ]
    },
    {
      "cell_type": "code",
      "metadata": {
        "id": "v9Dw_kz3XSgP"
      },
      "source": [
        "model = tf.keras.Sequential([\n",
        "    tf.keras.layers.Dense(256, activation='relu', input_shape=(22,)),\n",
        "    tf.keras.layers.BatchNormalization(),\n",
        "    tf.keras.layers.Dense(128, activation='relu'),\n",
        "    tf.keras.layers.BatchNormalization(),\n",
        "    tf.keras.layers.Dense(64, activation='relu'),\n",
        "    tf.keras.layers.Dropout(0.5),\n",
        "    tf.keras.layers.Dense(1,activation='sigmoid')\n",
        "  ])"
      ],
      "execution_count": null,
      "outputs": []
    },
    {
      "cell_type": "markdown",
      "metadata": {
        "id": "hCbrGpMa8Jr1"
      },
      "source": [
        "Model compilation"
      ]
    },
    {
      "cell_type": "code",
      "metadata": {
        "id": "j_WLg_iGXWrq"
      },
      "source": [
        "model.compile(loss='binary_crossentropy',\n",
        "              optimizer = 'adam',\n",
        "              metrics=['accuracy'])"
      ],
      "execution_count": null,
      "outputs": []
    },
    {
      "cell_type": "markdown",
      "metadata": {
        "id": "glakjxiX8Nn2"
      },
      "source": [
        "Summary model"
      ]
    },
    {
      "cell_type": "code",
      "metadata": {
        "colab": {
          "base_uri": "https://localhost:8080/"
        },
        "id": "_U-vQfkPYkdi",
        "outputId": "a5005d9c-6c63-4822-c071-a20d51374f9c"
      },
      "source": [
        "model.summary()"
      ],
      "execution_count": null,
      "outputs": [
        {
          "output_type": "stream",
          "text": [
            "Model: \"sequential_3\"\n",
            "_________________________________________________________________\n",
            "Layer (type)                 Output Shape              Param #   \n",
            "=================================================================\n",
            "dense_12 (Dense)             (None, 256)               5888      \n",
            "_________________________________________________________________\n",
            "batch_normalization_6 (Batch (None, 256)               1024      \n",
            "_________________________________________________________________\n",
            "dense_13 (Dense)             (None, 128)               32896     \n",
            "_________________________________________________________________\n",
            "batch_normalization_7 (Batch (None, 128)               512       \n",
            "_________________________________________________________________\n",
            "dense_14 (Dense)             (None, 64)                8256      \n",
            "_________________________________________________________________\n",
            "dropout_3 (Dropout)          (None, 64)                0         \n",
            "_________________________________________________________________\n",
            "dense_15 (Dense)             (None, 1)                 65        \n",
            "=================================================================\n",
            "Total params: 48,641\n",
            "Trainable params: 47,873\n",
            "Non-trainable params: 768\n",
            "_________________________________________________________________\n"
          ],
          "name": "stdout"
        }
      ]
    },
    {
      "cell_type": "markdown",
      "metadata": {
        "id": "nWHl8Y5l8Q6y"
      },
      "source": [
        "Now, fit the data in the model"
      ]
    },
    {
      "cell_type": "code",
      "metadata": {
        "colab": {
          "base_uri": "https://localhost:8080/"
        },
        "id": "UJ_MQ5kuZTxC",
        "outputId": "12586e33-7484-4621-de26-4f6524bf0dd3"
      },
      "source": [
        "h = model.fit(X_train,y_train,epochs=15,validation_data=(X_test,y_test))"
      ],
      "execution_count": null,
      "outputs": [
        {
          "output_type": "stream",
          "text": [
            "Epoch 1/15\n",
            "5/5 [==============================] - 1s 45ms/step - loss: 0.6888 - accuracy: 0.6218 - val_loss: 0.6121 - val_accuracy: 0.7436\n",
            "Epoch 2/15\n",
            "5/5 [==============================] - 0s 8ms/step - loss: 0.4209 - accuracy: 0.8397 - val_loss: 0.5553 - val_accuracy: 0.7436\n",
            "Epoch 3/15\n",
            "5/5 [==============================] - 0s 8ms/step - loss: 0.3377 - accuracy: 0.8333 - val_loss: 0.5213 - val_accuracy: 0.8462\n",
            "Epoch 4/15\n",
            "5/5 [==============================] - 0s 9ms/step - loss: 0.2531 - accuracy: 0.9038 - val_loss: 0.5005 - val_accuracy: 0.8462\n",
            "Epoch 5/15\n",
            "5/5 [==============================] - 0s 8ms/step - loss: 0.1925 - accuracy: 0.9295 - val_loss: 0.4794 - val_accuracy: 0.8718\n",
            "Epoch 6/15\n",
            "5/5 [==============================] - 0s 10ms/step - loss: 0.1817 - accuracy: 0.9359 - val_loss: 0.4618 - val_accuracy: 0.8718\n",
            "Epoch 7/15\n",
            "5/5 [==============================] - 0s 9ms/step - loss: 0.1430 - accuracy: 0.9551 - val_loss: 0.4469 - val_accuracy: 0.8974\n",
            "Epoch 8/15\n",
            "5/5 [==============================] - 0s 9ms/step - loss: 0.0982 - accuracy: 0.9872 - val_loss: 0.4332 - val_accuracy: 0.8974\n",
            "Epoch 9/15\n",
            "5/5 [==============================] - 0s 9ms/step - loss: 0.0955 - accuracy: 0.9744 - val_loss: 0.4205 - val_accuracy: 0.8974\n",
            "Epoch 10/15\n",
            "5/5 [==============================] - 0s 10ms/step - loss: 0.0987 - accuracy: 0.9615 - val_loss: 0.4086 - val_accuracy: 0.8974\n",
            "Epoch 11/15\n",
            "5/5 [==============================] - 0s 11ms/step - loss: 0.0900 - accuracy: 0.9679 - val_loss: 0.3998 - val_accuracy: 0.8974\n",
            "Epoch 12/15\n",
            "5/5 [==============================] - 0s 10ms/step - loss: 0.0720 - accuracy: 0.9744 - val_loss: 0.3887 - val_accuracy: 0.8974\n",
            "Epoch 13/15\n",
            "5/5 [==============================] - 0s 9ms/step - loss: 0.1053 - accuracy: 0.9679 - val_loss: 0.3765 - val_accuracy: 0.8974\n",
            "Epoch 14/15\n",
            "5/5 [==============================] - 0s 10ms/step - loss: 0.0535 - accuracy: 0.9872 - val_loss: 0.3647 - val_accuracy: 0.8974\n",
            "Epoch 15/15\n",
            "5/5 [==============================] - 0s 11ms/step - loss: 0.0693 - accuracy: 0.9872 - val_loss: 0.3511 - val_accuracy: 0.9231\n"
          ],
          "name": "stdout"
        }
      ]
    },
    {
      "cell_type": "code",
      "metadata": {
        "colab": {
          "base_uri": "https://localhost:8080/"
        },
        "id": "uEtX0waVAw_B",
        "outputId": "0f6fe273-e362-4c58-b647-d765421fc1f6"
      },
      "source": [
        "h.history.keys()"
      ],
      "execution_count": null,
      "outputs": [
        {
          "output_type": "execute_result",
          "data": {
            "text/plain": [
              "dict_keys(['loss', 'accuracy', 'val_loss', 'val_accuracy'])"
            ]
          },
          "metadata": {
            "tags": []
          },
          "execution_count": 31
        }
      ]
    },
    {
      "cell_type": "markdown",
      "metadata": {
        "id": "X4tZdgnz8Ycx"
      },
      "source": [
        "Accuracy Graph for training and testing"
      ]
    },
    {
      "cell_type": "code",
      "metadata": {
        "colab": {
          "base_uri": "https://localhost:8080/",
          "height": 312
        },
        "id": "MSbsweX6AZvy",
        "outputId": "02f5641b-960f-4afb-ef65-34374a53e0e3"
      },
      "source": [
        "plt.plot(h.history['accuracy'], label = 'Accuracy for Train set')\n",
        "plt.plot(h.history['val_accuracy'], label = 'Accuracy for Test Set')\n",
        "plt.title('Accuracy Graph for ANN')\n",
        "plt.ylabel('Accuracy')\n",
        "plt.xlabel('epochs')\n",
        "plt.legend()"
      ],
      "execution_count": null,
      "outputs": [
        {
          "output_type": "execute_result",
          "data": {
            "text/plain": [
              "<matplotlib.legend.Legend at 0x7f9086fcedd0>"
            ]
          },
          "metadata": {
            "tags": []
          },
          "execution_count": 32
        },
        {
          "output_type": "display_data",
          "data": {
            "image/png": "[encoded data removed]",
            "text/plain": [
              "<Figure size 432x288 with 1 Axes>"
            ]
          },
          "metadata": {
            "tags": [],
            "needs_background": "light"
          }
        }
      ]
    },
    {
      "cell_type": "markdown",
      "metadata": {
        "id": "DQ7Vg_-V8j1d"
      },
      "source": [
        "Loss curve for the traning and testing"
      ]
    },
    {
      "cell_type": "code",
      "metadata": {
        "colab": {
          "base_uri": "https://localhost:8080/",
          "height": 312
        },
        "id": "zx6q3VsGGq5X",
        "outputId": "1c550154-ce23-4bb5-b57f-6a1502c852f2"
      },
      "source": [
        "plt.plot(h.history['loss'], label = 'loss for Train set')\n",
        "plt.plot(h.history['val_loss'], label = 'loss for Test Set')\n",
        "plt.title('loss Graph for ANN')\n",
        "plt.ylabel('loss')\n",
        "plt.xlabel('epochs')\n",
        "plt.legend()"
      ],
      "execution_count": null,
      "outputs": [
        {
          "output_type": "execute_result",
          "data": {
            "text/plain": [
              "<matplotlib.legend.Legend at 0x7f90870ebc10>"
            ]
          },
          "metadata": {
            "tags": []
          },
          "execution_count": 33
        },
        {
          "output_type": "display_data",
          "data": {
            "image/png": "[encoded data removed]",
            "text/plain": [
              "<Figure size 432x288 with 1 Axes>"
            ]
          },
          "metadata": {
            "tags": [],
            "needs_background": "light"
          }
        }
      ]
    },
    {
      "cell_type": "markdown",
      "metadata": {
        "id": "-lJ_ADqA8s2a"
      },
      "source": [
        "Making predictions using the model on the training set"
      ]
    },
    {
      "cell_type": "code",
      "metadata": {
        "colab": {
          "base_uri": "https://localhost:8080/"
        },
        "id": "lc2ceoRYq2EL",
        "outputId": "3741ca5c-8cca-4859-e96a-7166f4bb50cd"
      },
      "source": [
        "y_pred_2 = model.predict_classes(X_train)"
      ],
      "execution_count": null,
      "outputs": [
        {
          "output_type": "stream",
          "text": [
            "/usr/local/lib/python3.7/dist-packages/tensorflow/python/keras/engine/sequential.py:455: UserWarning: `model.predict_classes()` is deprecated and will be removed after 2021-01-01. Please use instead:* `np.argmax(model.predict(x), axis=-1)`,   if your model does multi-class classification   (e.g. if it uses a `softmax` last-layer activation).* `(model.predict(x) > 0.5).astype(\"int32\")`,   if your model does binary classification   (e.g. if it uses a `sigmoid` last-layer activation).\n",
            "  warnings.warn('`model.predict_classes()` is deprecated and '\n"
          ],
          "name": "stderr"
        }
      ]
    },
    {
      "cell_type": "markdown",
      "metadata": {
        "id": "ju1vHew8828J"
      },
      "source": [
        "Result of the prediction on trainig set"
      ]
    },
    {
      "cell_type": "code",
      "metadata": {
        "colab": {
          "base_uri": "https://localhost:8080/",
          "height": 400
        },
        "id": "SVsYFvzlq2BX",
        "outputId": "65ee9d8b-d432-436d-efe6-a60edd482b72"
      },
      "source": [
        "print(\"Confusion matrix is \", confusion_matrix(y_train,y_pred_2))\n",
        "print(\"Accuracy Score is \", accuracy_score(y_train,y_pred_2))\n",
        "print(\"f1_Score  is \", f1_score(y_train,y_pred_2))\n",
        "print(\"precison is\", precision_score(y_train,y_pred_2))\n",
        "print(\"recall is\", recall_score(y_train,y_pred_2))\n",
        "cf_matrix = confusion_matrix(y_train,y_pred_2)\n",
        "sns.heatmap(cf_matrix, annot=True,fmt = 'd')\n",
        "plt.title('Confusion metric of Train Data for ANN')"
      ],
      "execution_count": null,
      "outputs": [
        {
          "output_type": "stream",
          "text": [
            "Confusion matrix is  [[ 34   2]\n",
            " [  1 119]]\n",
            "Accuracy Score is  0.9807692307692307\n",
            "f1_Score  is  0.9875518672199171\n",
            "precison is 0.9834710743801653\n",
            "recall is 0.9916666666666667\n"
          ],
          "name": "stdout"
        },
        {
          "output_type": "execute_result",
          "data": {
            "text/plain": [
              "Text(0.5, 1.0, 'Confusion metric of Train Data for ANN')"
            ]
          },
          "metadata": {
            "tags": []
          },
          "execution_count": 37
        },
        {
          "output_type": "display_data",
          "data": {
            "image/png": "[encoded data removed]",
            "text/plain": [
              "<Figure size 432x288 with 2 Axes>"
            ]
          },
          "metadata": {
            "tags": [],
            "needs_background": "light"
          }
        }
      ]
    },
    {
      "cell_type": "code",
      "metadata": {
        "colab": {
          "base_uri": "https://localhost:8080/",
          "height": 298
        },
        "id": "5gb3KYYyyD9O",
        "outputId": "56dca037-013b-4b48-ef6c-5e6c0b7127cd"
      },
      "source": [
        "d = [[98.07],[99.16],[98.364],[98.75]] \n",
        "df = pd.DataFrame(data=d, columns = ['Artificial Neural Network'],\n",
        "                  index = ['Accuarcy', 'Recall','Precision','F1 score'])\n",
        "df1 = df.transpose()\n",
        "\n",
        "df1.plot( kind = 'bar', figsize = [12,4])\n",
        "plt.xticks(rotation='horizontal')\n",
        "plt.ylim([0,100])\n",
        "plt.legend(loc = 'upper left')\n",
        "plt.title('Results On Train Data')"
      ],
      "execution_count": 3,
      "outputs": [
        {
          "output_type": "execute_result",
          "data": {
            "text/plain": [
              "Text(0.5, 1.0, 'Results On Train Data')"
            ]
          },
          "metadata": {
            "tags": []
          },
          "execution_count": 3
        },
        {
          "output_type": "display_data",
          "data": {
            "image/png": "[encoded data removed]",
            "text/plain": [
              "<Figure size 864x288 with 1 Axes>"
            ]
          },
          "metadata": {
            "tags": [],
            "needs_background": "light"
          }
        }
      ]
    },
    {
      "cell_type": "code",
      "metadata": {
        "id": "G0zHCqXRaT9s"
      },
      "source": [
        ""
      ],
      "execution_count": null,
      "outputs": []
    },
    {
      "cell_type": "markdown",
      "metadata": {
        "id": "6wsrD1Qz893G"
      },
      "source": [
        "Making predictions using the model on the test set"
      ]
    },
    {
      "cell_type": "code",
      "metadata": {
        "id": "6yNSaXSSdQ03"
      },
      "source": [
        "y_pred = model.predict(X_test)"
      ],
      "execution_count": null,
      "outputs": []
    },
    {
      "cell_type": "code",
      "metadata": {
        "colab": {
          "base_uri": "https://localhost:8080/"
        },
        "id": "s5anb_Y0nS85",
        "outputId": "eacfc771-c6c2-49a5-d8c7-6df3d7add80e"
      },
      "source": [
        "y_pred = model.predict_classes(X_test)"
      ],
      "execution_count": null,
      "outputs": [
        {
          "output_type": "stream",
          "text": [
            "/usr/local/lib/python3.7/dist-packages/tensorflow/python/keras/engine/sequential.py:455: UserWarning: `model.predict_classes()` is deprecated and will be removed after 2021-01-01. Please use instead:* `np.argmax(model.predict(x), axis=-1)`,   if your model does multi-class classification   (e.g. if it uses a `softmax` last-layer activation).* `(model.predict(x) > 0.5).astype(\"int32\")`,   if your model does binary classification   (e.g. if it uses a `sigmoid` last-layer activation).\n",
            "  warnings.warn('`model.predict_classes()` is deprecated and '\n"
          ],
          "name": "stderr"
        }
      ]
    },
    {
      "cell_type": "markdown",
      "metadata": {
        "id": "RDXbs95e9JGb"
      },
      "source": [
        "Result of predictions on test set"
      ]
    },
    {
      "cell_type": "code",
      "metadata": {
        "colab": {
          "base_uri": "https://localhost:8080/",
          "height": 400
        },
        "id": "0U3aFCx0kO8W",
        "outputId": "1bdd05cf-dcb6-4f75-f70a-53e5526ed6d3"
      },
      "source": [
        "print(\"Confusion matrix is \", confusion_matrix(y_test,y_pred))\n",
        "print(\"Accuracy Score is \", accuracy_score(y_test,y_pred))\n",
        "print(\"f1_Score  is \", f1_score(y_test,y_pred))\n",
        "print(\"precison is\", precision_score(y_test,y_pred))\n",
        "print(\"recall is\", recall_score(y_test,y_pred))\n",
        "cf_matrix = confusion_matrix(y_test,y_pred)\n",
        "sns.heatmap(cf_matrix, annot=True)\n",
        "plt.title('Confusion metric of Test Data for ANN')"
      ],
      "execution_count": null,
      "outputs": [
        {
          "output_type": "stream",
          "text": [
            "Confusion matrix is  [[ 9  3]\n",
            " [ 0 27]]\n",
            "Accuracy Score is  0.9230769230769231\n",
            "f1_Score  is  0.9473684210526316\n",
            "precison is 0.9\n",
            "recall is 1.0\n"
          ],
          "name": "stdout"
        },
        {
          "output_type": "execute_result",
          "data": {
            "text/plain": [
              "Text(0.5, 1.0, 'Confusion metric of Test Data for ANN')"
            ]
          },
          "metadata": {
            "tags": []
          },
          "execution_count": 41
        },
        {
          "output_type": "display_data",
          "data": {
            "image/png": "[encoded data removed]",
            "text/plain": [
              "<Figure size 432x288 with 2 Axes>"
            ]
          },
          "metadata": {
            "tags": [],
            "needs_background": "light"
          }
        }
      ]
    },
    {
      "cell_type": "code",
      "metadata": {
        "colab": {
          "base_uri": "https://localhost:8080/",
          "height": 298
        },
        "id": "jK4Nm4ebxTs3",
        "outputId": "baf0928a-2911-4d1e-b64c-4fa8fe093418"
      },
      "source": [
        "d = [[92.30],[100],[90.00],[94.73]] \n",
        "df = pd.DataFrame(data=d, columns = ['Artificial Neural Network'],\n",
        "                  index = ['Accuarcy', 'Recall','Precision','F1 score'])\n",
        "df1 = df.transpose()\n",
        "\n",
        "df1.plot( kind = 'bar', figsize = [12,4])\n",
        "plt.xticks(rotation='horizontal')\n",
        "plt.ylim([0,100])\n",
        "plt.legend(loc = 'upper left')\n",
        "plt.title('Results On Test Data')"
      ],
      "execution_count": 4,
      "outputs": [
        {
          "output_type": "execute_result",
          "data": {
            "text/plain": [
              "Text(0.5, 1.0, 'Results On Test Data')"
            ]
          },
          "metadata": {
            "tags": []
          },
          "execution_count": 4
        },
        {
          "output_type": "display_data",
          "data": {
            "image/png": "[encoded data removed]",
            "text/plain": [
              "<Figure size 864x288 with 1 Axes>"
            ]
          },
          "metadata": {
            "tags": [],
            "needs_background": "light"
          }
        }
      ]
    },
    {
      "cell_type": "code",
      "metadata": {
        "id": "Sgk9fcMLpPCH"
      },
      "source": [
        ""
      ],
      "execution_count": null,
      "outputs": []
    }
  ]
}